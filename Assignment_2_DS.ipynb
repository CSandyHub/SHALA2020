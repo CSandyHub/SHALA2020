{
  "nbformat": 4,
  "nbformat_minor": 0,
  "metadata": {
    "colab": {
      "name": "Assignment_2_DS.ipynb",
      "provenance": [],
      "collapsed_sections": [],
      "toc_visible": true,
      "include_colab_link": true
    },
    "kernelspec": {
      "name": "python3",
      "display_name": "Python 3"
    }
  },
  "cells": [
    {
      "cell_type": "markdown",
      "metadata": {
        "id": "view-in-github",
        "colab_type": "text"
      },
      "source": [
        "<a href=\"https://colab.research.google.com/github/CSandyHub/SHALA2020/blob/master/Assignment_2_DS.ipynb\" target=\"_parent\"><img src=\"https://colab.research.google.com/assets/colab-badge.svg\" alt=\"Open In Colab\"/></a>"
      ]
    },
    {
      "cell_type": "markdown",
      "metadata": {
        "id": "1X6ddOR8HFsX",
        "colab_type": "text"
      },
      "source": [
        "\n",
        "# **Assignment - 2: Basic Data Understanding**\n",
        "\n",
        "---\n",
        "\n",
        "This assignment will get you familiarized with Python libraries and  functions required for data visualization."
      ]
    },
    {
      "cell_type": "markdown",
      "metadata": {
        "id": "XRd4EfXN5fQb",
        "colab_type": "text"
      },
      "source": [
        "---\n",
        "## Part 1 - Loading data \n",
        "---"
      ]
    },
    {
      "cell_type": "markdown",
      "metadata": {
        "id": "Q7W6I-fVIoqp",
        "colab_type": "text"
      },
      "source": [
        "###Import the following libraries:  \n",
        "\n",
        "* ```numpy``` with an alias name ```np```, \n",
        "* ```pandas``` with an alias name ```pd```, \n",
        "* ```matplotlib.pyplot``` with an alias name ```plt```, and \n",
        "* ```seaborn``` with an alias name ```sns```. "
      ]
    },
    {
      "cell_type": "code",
      "metadata": {
        "id": "NihF3MwIGI4m",
        "colab_type": "code",
        "colab": {}
      },
      "source": [
        "# Load the four libraries with their aliases \n",
        "import numpy as np\n",
        "import pandas as pd\n",
        "import matplotlib.pyplot as plt\n",
        "import seaborn as sns"
      ],
      "execution_count": 0,
      "outputs": []
    },
    {
      "cell_type": "markdown",
      "metadata": {
        "id": "dsLj-TSQJgMb",
        "colab_type": "text"
      },
      "source": [
        "### Using the files ```train.csv``` and ```moviesData.csv```,  peform the following:\n",
        "\n",
        "* Load these file as ```pandas``` dataframes and store it in variables named ```df``` and ```movies``` respectively. \n",
        "* Print the first ten rows of ```df```. \n",
        "\n"
      ]
    },
    {
      "cell_type": "code",
      "metadata": {
        "id": "3AjvT40AGIq6",
        "colab_type": "code",
        "colab": {}
      },
      "source": [
        "pd.set_option('display.max_rows', None)\n",
        "pd.set_option('display.max_columns', None)\n",
        "\n",
        "# Load the file as a dataframe \n",
        "df = pd.read_csv(\"train.csv\")\n",
        "movies = pd.read_csv(\"moviesData.csv\")"
      ],
      "execution_count": 0,
      "outputs": []
    },
    {
      "cell_type": "code",
      "metadata": {
        "id": "7eCo7WlMGMkn",
        "colab_type": "code",
        "colab": {
          "base_uri": "https://localhost:8080/",
          "height": 557
        },
        "outputId": "d41db67d-0ffe-4775-bc15-1be4c4c5a1b1"
      },
      "source": [
        "# Print the first ten rows of df\n",
        "df.head(10)"
      ],
      "execution_count": 122,
      "outputs": [
        {
          "output_type": "execute_result",
          "data": {
            "text/html": [
              "<div>\n",
              "<style scoped>\n",
              "    .dataframe tbody tr th:only-of-type {\n",
              "        vertical-align: middle;\n",
              "    }\n",
              "\n",
              "    .dataframe tbody tr th {\n",
              "        vertical-align: top;\n",
              "    }\n",
              "\n",
              "    .dataframe thead th {\n",
              "        text-align: right;\n",
              "    }\n",
              "</style>\n",
              "<table border=\"1\" class=\"dataframe\">\n",
              "  <thead>\n",
              "    <tr style=\"text-align: right;\">\n",
              "      <th></th>\n",
              "      <th>Age</th>\n",
              "      <th>Attrition</th>\n",
              "      <th>BusinessTravel</th>\n",
              "      <th>DailyRate</th>\n",
              "      <th>Department</th>\n",
              "      <th>DistanceFromHome</th>\n",
              "      <th>Education</th>\n",
              "      <th>EducationField</th>\n",
              "      <th>EmployeeCount</th>\n",
              "      <th>EmployeeNumber</th>\n",
              "      <th>EnvironmentSatisfaction</th>\n",
              "      <th>Gender</th>\n",
              "      <th>HourlyRate</th>\n",
              "      <th>JobInvolvement</th>\n",
              "      <th>JobLevel</th>\n",
              "      <th>JobRole</th>\n",
              "      <th>JobSatisfaction</th>\n",
              "      <th>MaritalStatus</th>\n",
              "      <th>MonthlyIncome</th>\n",
              "      <th>MonthlyRate</th>\n",
              "      <th>NumCompaniesWorked</th>\n",
              "      <th>OverTime</th>\n",
              "      <th>PercentSalaryHike</th>\n",
              "      <th>PerformanceRating</th>\n",
              "      <th>RelationshipSatisfaction</th>\n",
              "      <th>StockOptionLevel</th>\n",
              "      <th>TotalWorkingYears</th>\n",
              "      <th>TrainingTimesLastYear</th>\n",
              "      <th>WorkLifeBalance</th>\n",
              "      <th>YearsAtCompany</th>\n",
              "      <th>YearsInCurrentRole</th>\n",
              "      <th>YearsSinceLastPromotion</th>\n",
              "      <th>YearsWithCurrManager</th>\n",
              "      <th>ID</th>\n",
              "    </tr>\n",
              "  </thead>\n",
              "  <tbody>\n",
              "    <tr>\n",
              "      <th>0</th>\n",
              "      <td>41</td>\n",
              "      <td>1</td>\n",
              "      <td>Travel_Rarely</td>\n",
              "      <td>1102</td>\n",
              "      <td>Sales</td>\n",
              "      <td>1</td>\n",
              "      <td>2</td>\n",
              "      <td>Life Sciences</td>\n",
              "      <td>1</td>\n",
              "      <td>1</td>\n",
              "      <td>2</td>\n",
              "      <td>Female</td>\n",
              "      <td>94</td>\n",
              "      <td>3</td>\n",
              "      <td>2</td>\n",
              "      <td>Sales Executive</td>\n",
              "      <td>4</td>\n",
              "      <td>Single</td>\n",
              "      <td>5993</td>\n",
              "      <td>19479</td>\n",
              "      <td>8</td>\n",
              "      <td>Yes</td>\n",
              "      <td>11</td>\n",
              "      <td>3</td>\n",
              "      <td>1</td>\n",
              "      <td>0</td>\n",
              "      <td>8</td>\n",
              "      <td>0</td>\n",
              "      <td>1</td>\n",
              "      <td>6</td>\n",
              "      <td>4</td>\n",
              "      <td>0</td>\n",
              "      <td>5</td>\n",
              "      <td>0</td>\n",
              "    </tr>\n",
              "    <tr>\n",
              "      <th>1</th>\n",
              "      <td>49</td>\n",
              "      <td>0</td>\n",
              "      <td>Travel_Frequently</td>\n",
              "      <td>279</td>\n",
              "      <td>Research &amp; Development</td>\n",
              "      <td>8</td>\n",
              "      <td>1</td>\n",
              "      <td>Life Sciences</td>\n",
              "      <td>1</td>\n",
              "      <td>2</td>\n",
              "      <td>3</td>\n",
              "      <td>Male</td>\n",
              "      <td>61</td>\n",
              "      <td>2</td>\n",
              "      <td>2</td>\n",
              "      <td>Research Scientist</td>\n",
              "      <td>2</td>\n",
              "      <td>Married</td>\n",
              "      <td>5130</td>\n",
              "      <td>24907</td>\n",
              "      <td>1</td>\n",
              "      <td>No</td>\n",
              "      <td>23</td>\n",
              "      <td>4</td>\n",
              "      <td>4</td>\n",
              "      <td>1</td>\n",
              "      <td>10</td>\n",
              "      <td>3</td>\n",
              "      <td>3</td>\n",
              "      <td>10</td>\n",
              "      <td>7</td>\n",
              "      <td>1</td>\n",
              "      <td>7</td>\n",
              "      <td>1</td>\n",
              "    </tr>\n",
              "    <tr>\n",
              "      <th>2</th>\n",
              "      <td>37</td>\n",
              "      <td>1</td>\n",
              "      <td>Travel_Rarely</td>\n",
              "      <td>1373</td>\n",
              "      <td>Research &amp; Development</td>\n",
              "      <td>2</td>\n",
              "      <td>2</td>\n",
              "      <td>Other</td>\n",
              "      <td>1</td>\n",
              "      <td>4</td>\n",
              "      <td>4</td>\n",
              "      <td>Male</td>\n",
              "      <td>92</td>\n",
              "      <td>2</td>\n",
              "      <td>1</td>\n",
              "      <td>Laboratory Technician</td>\n",
              "      <td>3</td>\n",
              "      <td>Single</td>\n",
              "      <td>2090</td>\n",
              "      <td>2396</td>\n",
              "      <td>6</td>\n",
              "      <td>Yes</td>\n",
              "      <td>15</td>\n",
              "      <td>3</td>\n",
              "      <td>2</td>\n",
              "      <td>0</td>\n",
              "      <td>7</td>\n",
              "      <td>3</td>\n",
              "      <td>3</td>\n",
              "      <td>0</td>\n",
              "      <td>0</td>\n",
              "      <td>0</td>\n",
              "      <td>0</td>\n",
              "      <td>2</td>\n",
              "    </tr>\n",
              "    <tr>\n",
              "      <th>3</th>\n",
              "      <td>33</td>\n",
              "      <td>0</td>\n",
              "      <td>Travel_Frequently</td>\n",
              "      <td>1392</td>\n",
              "      <td>Research &amp; Development</td>\n",
              "      <td>3</td>\n",
              "      <td>4</td>\n",
              "      <td>Life Sciences</td>\n",
              "      <td>1</td>\n",
              "      <td>5</td>\n",
              "      <td>4</td>\n",
              "      <td>Female</td>\n",
              "      <td>56</td>\n",
              "      <td>3</td>\n",
              "      <td>1</td>\n",
              "      <td>Research Scientist</td>\n",
              "      <td>3</td>\n",
              "      <td>Married</td>\n",
              "      <td>2909</td>\n",
              "      <td>23159</td>\n",
              "      <td>1</td>\n",
              "      <td>Yes</td>\n",
              "      <td>11</td>\n",
              "      <td>3</td>\n",
              "      <td>3</td>\n",
              "      <td>0</td>\n",
              "      <td>8</td>\n",
              "      <td>3</td>\n",
              "      <td>3</td>\n",
              "      <td>8</td>\n",
              "      <td>7</td>\n",
              "      <td>3</td>\n",
              "      <td>0</td>\n",
              "      <td>3</td>\n",
              "    </tr>\n",
              "    <tr>\n",
              "      <th>4</th>\n",
              "      <td>27</td>\n",
              "      <td>0</td>\n",
              "      <td>Travel_Rarely</td>\n",
              "      <td>591</td>\n",
              "      <td>Research &amp; Development</td>\n",
              "      <td>2</td>\n",
              "      <td>1</td>\n",
              "      <td>Medical</td>\n",
              "      <td>1</td>\n",
              "      <td>7</td>\n",
              "      <td>1</td>\n",
              "      <td>Male</td>\n",
              "      <td>40</td>\n",
              "      <td>3</td>\n",
              "      <td>1</td>\n",
              "      <td>Laboratory Technician</td>\n",
              "      <td>2</td>\n",
              "      <td>Married</td>\n",
              "      <td>3468</td>\n",
              "      <td>16632</td>\n",
              "      <td>9</td>\n",
              "      <td>No</td>\n",
              "      <td>12</td>\n",
              "      <td>3</td>\n",
              "      <td>4</td>\n",
              "      <td>1</td>\n",
              "      <td>6</td>\n",
              "      <td>3</td>\n",
              "      <td>3</td>\n",
              "      <td>2</td>\n",
              "      <td>2</td>\n",
              "      <td>2</td>\n",
              "      <td>2</td>\n",
              "      <td>4</td>\n",
              "    </tr>\n",
              "    <tr>\n",
              "      <th>5</th>\n",
              "      <td>32</td>\n",
              "      <td>0</td>\n",
              "      <td>Travel_Frequently</td>\n",
              "      <td>1005</td>\n",
              "      <td>Research &amp; Development</td>\n",
              "      <td>2</td>\n",
              "      <td>2</td>\n",
              "      <td>Life Sciences</td>\n",
              "      <td>1</td>\n",
              "      <td>8</td>\n",
              "      <td>4</td>\n",
              "      <td>Male</td>\n",
              "      <td>79</td>\n",
              "      <td>3</td>\n",
              "      <td>1</td>\n",
              "      <td>Laboratory Technician</td>\n",
              "      <td>4</td>\n",
              "      <td>Single</td>\n",
              "      <td>3068</td>\n",
              "      <td>11864</td>\n",
              "      <td>0</td>\n",
              "      <td>No</td>\n",
              "      <td>13</td>\n",
              "      <td>3</td>\n",
              "      <td>3</td>\n",
              "      <td>0</td>\n",
              "      <td>8</td>\n",
              "      <td>2</td>\n",
              "      <td>2</td>\n",
              "      <td>7</td>\n",
              "      <td>7</td>\n",
              "      <td>3</td>\n",
              "      <td>6</td>\n",
              "      <td>5</td>\n",
              "    </tr>\n",
              "    <tr>\n",
              "      <th>6</th>\n",
              "      <td>59</td>\n",
              "      <td>0</td>\n",
              "      <td>Travel_Rarely</td>\n",
              "      <td>1324</td>\n",
              "      <td>Research &amp; Development</td>\n",
              "      <td>3</td>\n",
              "      <td>3</td>\n",
              "      <td>Medical</td>\n",
              "      <td>1</td>\n",
              "      <td>10</td>\n",
              "      <td>3</td>\n",
              "      <td>Female</td>\n",
              "      <td>81</td>\n",
              "      <td>4</td>\n",
              "      <td>1</td>\n",
              "      <td>Laboratory Technician</td>\n",
              "      <td>1</td>\n",
              "      <td>Married</td>\n",
              "      <td>2670</td>\n",
              "      <td>9964</td>\n",
              "      <td>4</td>\n",
              "      <td>Yes</td>\n",
              "      <td>20</td>\n",
              "      <td>4</td>\n",
              "      <td>1</td>\n",
              "      <td>3</td>\n",
              "      <td>12</td>\n",
              "      <td>3</td>\n",
              "      <td>2</td>\n",
              "      <td>1</td>\n",
              "      <td>0</td>\n",
              "      <td>0</td>\n",
              "      <td>0</td>\n",
              "      <td>6</td>\n",
              "    </tr>\n",
              "    <tr>\n",
              "      <th>7</th>\n",
              "      <td>30</td>\n",
              "      <td>0</td>\n",
              "      <td>Travel_Rarely</td>\n",
              "      <td>1358</td>\n",
              "      <td>Research &amp; Development</td>\n",
              "      <td>24</td>\n",
              "      <td>1</td>\n",
              "      <td>Life Sciences</td>\n",
              "      <td>1</td>\n",
              "      <td>11</td>\n",
              "      <td>4</td>\n",
              "      <td>Male</td>\n",
              "      <td>67</td>\n",
              "      <td>3</td>\n",
              "      <td>1</td>\n",
              "      <td>Laboratory Technician</td>\n",
              "      <td>3</td>\n",
              "      <td>Divorced</td>\n",
              "      <td>2693</td>\n",
              "      <td>13335</td>\n",
              "      <td>1</td>\n",
              "      <td>No</td>\n",
              "      <td>22</td>\n",
              "      <td>4</td>\n",
              "      <td>2</td>\n",
              "      <td>1</td>\n",
              "      <td>1</td>\n",
              "      <td>2</td>\n",
              "      <td>3</td>\n",
              "      <td>1</td>\n",
              "      <td>0</td>\n",
              "      <td>0</td>\n",
              "      <td>0</td>\n",
              "      <td>7</td>\n",
              "    </tr>\n",
              "    <tr>\n",
              "      <th>8</th>\n",
              "      <td>38</td>\n",
              "      <td>0</td>\n",
              "      <td>Travel_Frequently</td>\n",
              "      <td>216</td>\n",
              "      <td>Research &amp; Development</td>\n",
              "      <td>23</td>\n",
              "      <td>3</td>\n",
              "      <td>Life Sciences</td>\n",
              "      <td>1</td>\n",
              "      <td>12</td>\n",
              "      <td>4</td>\n",
              "      <td>Male</td>\n",
              "      <td>44</td>\n",
              "      <td>2</td>\n",
              "      <td>3</td>\n",
              "      <td>Manufacturing Director</td>\n",
              "      <td>3</td>\n",
              "      <td>Single</td>\n",
              "      <td>9526</td>\n",
              "      <td>8787</td>\n",
              "      <td>0</td>\n",
              "      <td>No</td>\n",
              "      <td>21</td>\n",
              "      <td>4</td>\n",
              "      <td>2</td>\n",
              "      <td>0</td>\n",
              "      <td>10</td>\n",
              "      <td>2</td>\n",
              "      <td>3</td>\n",
              "      <td>9</td>\n",
              "      <td>7</td>\n",
              "      <td>1</td>\n",
              "      <td>8</td>\n",
              "      <td>8</td>\n",
              "    </tr>\n",
              "    <tr>\n",
              "      <th>9</th>\n",
              "      <td>36</td>\n",
              "      <td>0</td>\n",
              "      <td>Travel_Rarely</td>\n",
              "      <td>1299</td>\n",
              "      <td>Research &amp; Development</td>\n",
              "      <td>27</td>\n",
              "      <td>3</td>\n",
              "      <td>Medical</td>\n",
              "      <td>1</td>\n",
              "      <td>13</td>\n",
              "      <td>3</td>\n",
              "      <td>Male</td>\n",
              "      <td>94</td>\n",
              "      <td>3</td>\n",
              "      <td>2</td>\n",
              "      <td>Healthcare Representative</td>\n",
              "      <td>3</td>\n",
              "      <td>Married</td>\n",
              "      <td>5237</td>\n",
              "      <td>16577</td>\n",
              "      <td>6</td>\n",
              "      <td>No</td>\n",
              "      <td>13</td>\n",
              "      <td>3</td>\n",
              "      <td>2</td>\n",
              "      <td>2</td>\n",
              "      <td>17</td>\n",
              "      <td>3</td>\n",
              "      <td>2</td>\n",
              "      <td>7</td>\n",
              "      <td>7</td>\n",
              "      <td>7</td>\n",
              "      <td>7</td>\n",
              "      <td>9</td>\n",
              "    </tr>\n",
              "  </tbody>\n",
              "</table>\n",
              "</div>"
            ],
            "text/plain": [
              "   Age  Attrition     BusinessTravel  DailyRate              Department  \\\n",
              "0   41          1      Travel_Rarely       1102                   Sales   \n",
              "1   49          0  Travel_Frequently        279  Research & Development   \n",
              "2   37          1      Travel_Rarely       1373  Research & Development   \n",
              "3   33          0  Travel_Frequently       1392  Research & Development   \n",
              "4   27          0      Travel_Rarely        591  Research & Development   \n",
              "5   32          0  Travel_Frequently       1005  Research & Development   \n",
              "6   59          0      Travel_Rarely       1324  Research & Development   \n",
              "7   30          0      Travel_Rarely       1358  Research & Development   \n",
              "8   38          0  Travel_Frequently        216  Research & Development   \n",
              "9   36          0      Travel_Rarely       1299  Research & Development   \n",
              "\n",
              "   DistanceFromHome  Education EducationField  EmployeeCount  EmployeeNumber  \\\n",
              "0                 1          2  Life Sciences              1               1   \n",
              "1                 8          1  Life Sciences              1               2   \n",
              "2                 2          2          Other              1               4   \n",
              "3                 3          4  Life Sciences              1               5   \n",
              "4                 2          1        Medical              1               7   \n",
              "5                 2          2  Life Sciences              1               8   \n",
              "6                 3          3        Medical              1              10   \n",
              "7                24          1  Life Sciences              1              11   \n",
              "8                23          3  Life Sciences              1              12   \n",
              "9                27          3        Medical              1              13   \n",
              "\n",
              "   EnvironmentSatisfaction  Gender  HourlyRate  JobInvolvement  JobLevel  \\\n",
              "0                        2  Female          94               3         2   \n",
              "1                        3    Male          61               2         2   \n",
              "2                        4    Male          92               2         1   \n",
              "3                        4  Female          56               3         1   \n",
              "4                        1    Male          40               3         1   \n",
              "5                        4    Male          79               3         1   \n",
              "6                        3  Female          81               4         1   \n",
              "7                        4    Male          67               3         1   \n",
              "8                        4    Male          44               2         3   \n",
              "9                        3    Male          94               3         2   \n",
              "\n",
              "                     JobRole  JobSatisfaction MaritalStatus  MonthlyIncome  \\\n",
              "0            Sales Executive                4        Single           5993   \n",
              "1         Research Scientist                2       Married           5130   \n",
              "2      Laboratory Technician                3        Single           2090   \n",
              "3         Research Scientist                3       Married           2909   \n",
              "4      Laboratory Technician                2       Married           3468   \n",
              "5      Laboratory Technician                4        Single           3068   \n",
              "6      Laboratory Technician                1       Married           2670   \n",
              "7      Laboratory Technician                3      Divorced           2693   \n",
              "8     Manufacturing Director                3        Single           9526   \n",
              "9  Healthcare Representative                3       Married           5237   \n",
              "\n",
              "   MonthlyRate  NumCompaniesWorked OverTime  PercentSalaryHike  \\\n",
              "0        19479                   8      Yes                 11   \n",
              "1        24907                   1       No                 23   \n",
              "2         2396                   6      Yes                 15   \n",
              "3        23159                   1      Yes                 11   \n",
              "4        16632                   9       No                 12   \n",
              "5        11864                   0       No                 13   \n",
              "6         9964                   4      Yes                 20   \n",
              "7        13335                   1       No                 22   \n",
              "8         8787                   0       No                 21   \n",
              "9        16577                   6       No                 13   \n",
              "\n",
              "   PerformanceRating  RelationshipSatisfaction  StockOptionLevel  \\\n",
              "0                  3                         1                 0   \n",
              "1                  4                         4                 1   \n",
              "2                  3                         2                 0   \n",
              "3                  3                         3                 0   \n",
              "4                  3                         4                 1   \n",
              "5                  3                         3                 0   \n",
              "6                  4                         1                 3   \n",
              "7                  4                         2                 1   \n",
              "8                  4                         2                 0   \n",
              "9                  3                         2                 2   \n",
              "\n",
              "   TotalWorkingYears  TrainingTimesLastYear  WorkLifeBalance  YearsAtCompany  \\\n",
              "0                  8                      0                1               6   \n",
              "1                 10                      3                3              10   \n",
              "2                  7                      3                3               0   \n",
              "3                  8                      3                3               8   \n",
              "4                  6                      3                3               2   \n",
              "5                  8                      2                2               7   \n",
              "6                 12                      3                2               1   \n",
              "7                  1                      2                3               1   \n",
              "8                 10                      2                3               9   \n",
              "9                 17                      3                2               7   \n",
              "\n",
              "   YearsInCurrentRole  YearsSinceLastPromotion  YearsWithCurrManager  ID  \n",
              "0                   4                        0                     5   0  \n",
              "1                   7                        1                     7   1  \n",
              "2                   0                        0                     0   2  \n",
              "3                   7                        3                     0   3  \n",
              "4                   2                        2                     2   4  \n",
              "5                   7                        3                     6   5  \n",
              "6                   0                        0                     0   6  \n",
              "7                   0                        0                     0   7  \n",
              "8                   7                        1                     8   8  \n",
              "9                   7                        7                     7   9  "
            ]
          },
          "metadata": {
            "tags": []
          },
          "execution_count": 122
        }
      ]
    },
    {
      "cell_type": "markdown",
      "metadata": {
        "id": "PSm-U7LEF5u_",
        "colab_type": "text"
      },
      "source": [
        "### Using the dataframe ```df```, perform the following: \n",
        "\n",
        "* Print the first five rows of the column ```MonthlyRate```. \n",
        "* Find out the details of the column ```MonthlyRate``` like mean, maximum value, minimum value, etc. "
      ]
    },
    {
      "cell_type": "code",
      "metadata": {
        "id": "QS5LttI-GT2f",
        "colab_type": "code",
        "colab": {
          "base_uri": "https://localhost:8080/",
          "height": 121
        },
        "outputId": "4c2e44d2-3c8d-48e8-cda3-5144e862fe47"
      },
      "source": [
        "# Print the first five rows of MonthlyRate\n",
        "df['MonthlyRate'][:5]"
      ],
      "execution_count": 148,
      "outputs": [
        {
          "output_type": "execute_result",
          "data": {
            "text/plain": [
              "0    19479\n",
              "1    24907\n",
              "2     2396\n",
              "3    23159\n",
              "4    16632\n",
              "Name: MonthlyRate, dtype: int64"
            ]
          },
          "metadata": {
            "tags": []
          },
          "execution_count": 148
        }
      ]
    },
    {
      "cell_type": "code",
      "metadata": {
        "id": "EzQ1a1M0GURm",
        "colab_type": "code",
        "colab": {
          "base_uri": "https://localhost:8080/",
          "height": 173
        },
        "outputId": "7608ca46-b8fc-4d4a-e54d-f3b2c31f4aab"
      },
      "source": [
        "# Find the details of MonthlyRate\n",
        "df.MonthlyRate.describe()"
      ],
      "execution_count": 149,
      "outputs": [
        {
          "output_type": "execute_result",
          "data": {
            "text/plain": [
              "count     1028.000000\n",
              "mean     14243.531128\n",
              "std       7048.768076\n",
              "min       2094.000000\n",
              "25%       8259.750000\n",
              "50%      14074.500000\n",
              "75%      20342.250000\n",
              "max      26999.000000\n",
              "Name: MonthlyRate, dtype: float64"
            ]
          },
          "metadata": {
            "tags": []
          },
          "execution_count": 149
        }
      ]
    },
    {
      "cell_type": "markdown",
      "metadata": {
        "id": "3h-YOTvPQI48",
        "colab_type": "text"
      },
      "source": [
        "---\n",
        "## Part 2 - Cleaning and manipulating data \n",
        "---"
      ]
    },
    {
      "cell_type": "markdown",
      "metadata": {
        "id": "EtLzBibsQfXu",
        "colab_type": "text"
      },
      "source": [
        "### Using the dataframe ```df```, peform the following:\n",
        "\n",
        "* Check whether there are any missing values in ```df```. \n",
        "* If yes, drop those values and print the size of ```df``` after dropping these. "
      ]
    },
    {
      "cell_type": "code",
      "metadata": {
        "id": "XG-UK53fRDRZ",
        "colab_type": "code",
        "colab": {
          "base_uri": "https://localhost:8080/",
          "height": 69
        },
        "outputId": "f3adb54d-f845-481b-88c4-ed472b4ec181"
      },
      "source": [
        "print(df.count().sum())\n",
        "# Check for missing values\n",
        "missingValues =sum(i for i in df.isna().sum())\n",
        "print(missingValues)\n",
        "# Drop the missing values \n",
        "if missingValues > 0:\n",
        "  df.dropna()\n",
        "# Print the size of df after dropping \n",
        "print(df.count().sum())\n"
      ],
      "execution_count": 150,
      "outputs": [
        {
          "output_type": "stream",
          "text": [
            "34952\n",
            "0\n",
            "34952\n"
          ],
          "name": "stdout"
        }
      ]
    },
    {
      "cell_type": "markdown",
      "metadata": {
        "id": "qtoGcl2XRWnS",
        "colab_type": "text"
      },
      "source": [
        "### Using the dataframe ```df```, peform the following:\n",
        "\n",
        "* Add another column named ```MonthRateNew``` in ```df``` by subtracting the mean from ```MonthlyRate``` and dividing it by standard deviation. "
      ]
    },
    {
      "cell_type": "code",
      "metadata": {
        "id": "zDMncSUKR12P",
        "colab_type": "code",
        "colab": {}
      },
      "source": [
        "# Add a column named MonthRateNew \n",
        "df['MonthRateNew'] = (df['MonthlyRate']-df['MonthlyRate'].mean())/df['MonthlyRate'].std()\n"
      ],
      "execution_count": 0,
      "outputs": []
    },
    {
      "cell_type": "code",
      "metadata": {
        "id": "BZPxsOw1OMyU",
        "colab_type": "code",
        "colab": {}
      },
      "source": [
        ""
      ],
      "execution_count": 0,
      "outputs": []
    },
    {
      "cell_type": "markdown",
      "metadata": {
        "id": "pcbN7jep13og",
        "colab_type": "text"
      },
      "source": [
        "### Using the dataframe ```movies```, perform the following: \n",
        "\n",
        "* Check whether there are any missing values in ```movies```. \n",
        "* Find out the number of observations/rows having any of their features/columns missing. \n",
        "* Drop the missing values and print the size of ```movies``` after dropping these. \n",
        "* Instead of dropping the missing values, replace the missing values by their mean (or some suitable value). \n"
      ]
    },
    {
      "cell_type": "code",
      "metadata": {
        "id": "DNszBx8A14ai",
        "colab_type": "code",
        "colab": {
          "base_uri": "https://localhost:8080/",
          "height": 607
        },
        "outputId": "2e3cb777-a39a-4dea-b6cd-c81398c8c5a8"
      },
      "source": [
        "# Check for missing values \n",
        "\n",
        "print(movies.shape)\n",
        "#Drop Missing Values\n",
        "movies2=movies.dropna()\n",
        "print(movies2.shape)\n",
        "# Replace the missing values \n",
        "# You can use SimpleImputer of sklearn for this\n",
        "from sklearn.impute import SimpleImputer\n",
        "meanImputer=SimpleImputer(missing_values=np.nan,strategy='mean')\n",
        "medianImputer=SimpleImputer(missing_values=np.nan,strategy='median')\n",
        "unknownImputer=SimpleImputer(missing_values=np.nan,strategy='constant',fill_value='UNKNOWN')\n",
        "movies['runtime'] =meanImputer.fit_transform(movies[['runtime']]).ravel()\n",
        "movies['dvd_rel_year'] =medianImputer.fit_transform(movies[['dvd_rel_year']]).ravel()\n",
        "movies['dvd_rel_month'] =medianImputer.fit_transform(movies[['dvd_rel_month']]).ravel()\n",
        "movies['dvd_rel_day'] =medianImputer.fit_transform(movies[['dvd_rel_day']]).ravel()\n",
        "movies['studio'] =unknownImputer.fit_transform(movies[['studio']]).ravel()\n",
        "movies['director'] =unknownImputer.fit_transform(movies[['director']]).ravel()\n",
        "movies['actor1'] =unknownImputer.fit_transform(movies[['actor1']]).ravel()\n",
        "movies['actor2'] =unknownImputer.fit_transform(movies[['actor2']]).ravel()\n",
        "movies['actor3'] =unknownImputer.fit_transform(movies[['actor3']]).ravel()\n",
        "movies['actor4'] =unknownImputer.fit_transform(movies[['actor4']]).ravel()\n",
        "movies['actor5'] =unknownImputer.fit_transform(movies[['actor5']]).ravel()\n",
        "movies.isna().sum()\n"
      ],
      "execution_count": 169,
      "outputs": [
        {
          "output_type": "stream",
          "text": [
            "(600, 31)\n",
            "(600, 31)\n"
          ],
          "name": "stdout"
        },
        {
          "output_type": "execute_result",
          "data": {
            "text/plain": [
              "Unnamed: 0          0\n",
              "title               0\n",
              "title_type          0\n",
              "genre               0\n",
              "runtime             0\n",
              "mpaa_rating         0\n",
              "studio              0\n",
              "thtr_rel_year       0\n",
              "thtr_rel_month      0\n",
              "thtr_rel_day        0\n",
              "dvd_rel_year        0\n",
              "dvd_rel_month       0\n",
              "dvd_rel_day         0\n",
              "imdb_rating         0\n",
              "imdb_num_votes      0\n",
              "critics_rating      0\n",
              "critics_score       0\n",
              "audience_rating     0\n",
              "audience_score      0\n",
              "best_pic_nom        0\n",
              "best_pic_win        0\n",
              "best_actor_win      0\n",
              "best_actress_win    0\n",
              "best_dir_win        0\n",
              "top200_box          0\n",
              "director            0\n",
              "actor1              0\n",
              "actor2              0\n",
              "actor3              0\n",
              "actor4              0\n",
              "actor5              0\n",
              "dtype: int64"
            ]
          },
          "metadata": {
            "tags": []
          },
          "execution_count": 169
        }
      ]
    },
    {
      "cell_type": "code",
      "metadata": {
        "id": "S_sI4IuSb8Cq",
        "colab_type": "code",
        "colab": {
          "base_uri": "https://localhost:8080/",
          "height": 69
        },
        "outputId": "4461a1dc-8881-4feb-b604-90f210013d58"
      },
      "source": [
        "df.Attrition.value_counts()"
      ],
      "execution_count": 175,
      "outputs": [
        {
          "output_type": "execute_result",
          "data": {
            "text/plain": [
              "0    856\n",
              "1    172\n",
              "Name: Attrition, dtype: int64"
            ]
          },
          "metadata": {
            "tags": []
          },
          "execution_count": 175
        }
      ]
    },
    {
      "cell_type": "markdown",
      "metadata": {
        "id": "qDr11sjlBk_W",
        "colab_type": "text"
      },
      "source": [
        "---\n",
        "## Part 3 - Visualizing data \n",
        "---"
      ]
    },
    {
      "cell_type": "markdown",
      "metadata": {
        "id": "wC_w1zNCBw2G",
        "colab_type": "text"
      },
      "source": [
        "### Visualize the ```df``` by drawing the following plots:\n",
        "\n",
        "* Plot a histogram of ```Age``` and find the range in which most people are there. \n",
        "* Modify the histogram of ```Age``` by adding 30 bins. \n",
        "* Draw a scatter plot between ```Age``` and ```Attrition``` and suitable labels to the axes. Find out whether people more than 50 years are more likely to leave the company. (```Attrition``` = 1 means people have left the company). "
      ]
    },
    {
      "cell_type": "code",
      "metadata": {
        "id": "645EwAsoH63i",
        "colab_type": "code",
        "colab": {
          "base_uri": "https://localhost:8080/",
          "height": 775
        },
        "outputId": "44251600-8732-4fe7-e6be-aef4993ad9b6"
      },
      "source": [
        "# Plot and modify the histogram of Age\n",
        "plt.hist(df.Age)\n",
        "plt.show()\n",
        "plt.hist(df.Age,bins=30,color='green')\n",
        "plt.show()\n",
        "# Draw a scatter plot between Age and Attrition\n",
        "plt.scatter(df.Age,df.Attrition)\n",
        "plt.xlabel('Age')\n",
        "plt.ylabel('Attrition')\n",
        "plt.show()"
      ],
      "execution_count": 180,
      "outputs": [
        {
          "output_type": "display_data",
          "data": {
            "image/png": "[encoded data removed]",
            "text/plain": [
              "<Figure size 432x288 with 1 Axes>"
            ]
          },
          "metadata": {
            "tags": [],
            "needs_background": "light"
          }
        },
        {
          "output_type": "display_data",
          "data": {
            "image/png": "[encoded data removed]",
            "text/plain": [
              "<Figure size 432x288 with 1 Axes>"
            ]
          },
          "metadata": {
            "tags": [],
            "needs_background": "light"
          }
        },
        {
          "output_type": "display_data",
          "data": {
            "image/png": "[encoded data removed]",
            "text/plain": [
              "<Figure size 432x288 with 1 Axes>"
            ]
          },
          "metadata": {
            "tags": [],
            "needs_background": "light"
          }
        }
      ]
    },
    {
      "cell_type": "markdown",
      "metadata": {
        "id": "eez_pkZ-HDKP",
        "colab_type": "text"
      },
      "source": [
        "### Visualize the ```df``` by following the steps given below:\n",
        "\n",
        "* Get a series containing counts of unique values of ```Attrition```.\n",
        "* Draw a countplot for ```Attrition``` using ```sns.countplot()```. "
      ]
    },
    {
      "cell_type": "code",
      "metadata": {
        "id": "Tp8LnxLWIPfk",
        "colab_type": "code",
        "colab": {
          "base_uri": "https://localhost:8080/",
          "height": 279
        },
        "outputId": "20c69417-3e30-423b-927a-f3df0a2513eb"
      },
      "source": [
        "# Get a series of counts of values of Attrition\n",
        "df.Attrition.value_counts()\n",
        "# Draw a countplot for Attrition \n",
        "chart=sns.countplot(x='Attrition',data=df)\n",
        "# You may use countplot of seaborn for this \n"
      ],
      "execution_count": 195,
      "outputs": [
        {
          "output_type": "display_data",
          "data": {
            "image/png": "[encoded data removed]",
            "text/plain": [
              "<Figure size 432x288 with 1 Axes>"
            ]
          },
          "metadata": {
            "tags": [],
            "needs_background": "light"
          }
        }
      ]
    },
    {
      "cell_type": "markdown",
      "metadata": {
        "id": "Vi01m9MBHaJD",
        "colab_type": "text"
      },
      "source": [
        "### Visualize the ```df``` by following the steps given below:\n",
        "\n",
        "* Draw a cross tabulation of ```Attrition``` and ```BusinessTravel``` as bar charts. Find which value of ```BusinessTravel``` has highest number of people."
      ]
    },
    {
      "cell_type": "code",
      "metadata": {
        "id": "5OHAeOqeIQVM",
        "colab_type": "code",
        "colab": {
          "base_uri": "https://localhost:8080/",
          "height": 293
        },
        "outputId": "f9e46db8-5734-4f3b-de24-33dff0bfc92e"
      },
      "source": [
        "# Draw a cross tab of Attritiona and BusinessTravel \n",
        "cross_tab=pd.crosstab(df.Attrition,df.BusinessTravel)\n",
        "cross_tab.plot(kind='bar')\n",
        "plt.ylabel('Number of Attrition')\n",
        "# You may use crosstab of pandas for this \n",
        "\n"
      ],
      "execution_count": 197,
      "outputs": [
        {
          "output_type": "execute_result",
          "data": {
            "text/plain": [
              "Text(0, 0.5, 'Number of Attrition')"
            ]
          },
          "metadata": {
            "tags": []
          },
          "execution_count": 197
        },
        {
          "output_type": "display_data",
          "data": {
            "image/png": "[encoded data removed]",
            "text/plain": [
              "<Figure size 432x288 with 1 Axes>"
            ]
          },
          "metadata": {
            "tags": [],
            "needs_background": "light"
          }
        }
      ]
    },
    {
      "cell_type": "markdown",
      "metadata": {
        "id": "1FCc9ZkUHfqL",
        "colab_type": "text"
      },
      "source": [
        "### Visualize the ```df``` by drawing the following plot:\n",
        "\n",
        "* Draw a stacked bar chart between ```Attrition``` and ```Gender``` columns. "
      ]
    },
    {
      "cell_type": "code",
      "metadata": {
        "id": "58ELSAXBIQST",
        "colab_type": "code",
        "colab": {
          "base_uri": "https://localhost:8080/",
          "height": 322
        },
        "outputId": "9c43cc1c-4cbf-4d29-97bb-a9d888c91898"
      },
      "source": [
        "# Draw a stacked bar chart between Attrition and Gender \n",
        "stack_bar=pd.crosstab(df.Gender,df.Attrition)\n",
        "stack_bar.plot(kind='bar',stacked=True)\n",
        "plt.ylabel('Number of Attrition')\n"
      ],
      "execution_count": 200,
      "outputs": [
        {
          "output_type": "execute_result",
          "data": {
            "text/plain": [
              "Text(0, 0.5, 'Number of Attrition')"
            ]
          },
          "metadata": {
            "tags": []
          },
          "execution_count": 200
        },
        {
          "output_type": "display_data",
          "data": {
            "image/png": "[encoded data removed]",
            "text/plain": [
              "<Figure size 432x288 with 1 Axes>"
            ]
          },
          "metadata": {
            "tags": [],
            "needs_background": "light"
          }
        }
      ]
    },
    {
      "cell_type": "markdown",
      "metadata": {
        "id": "vZzsi8_QLEdq",
        "colab_type": "text"
      },
      "source": [
        "### Visualize the ```df``` by drawing the following histogram:\n",
        "\n",
        "* Draw a histogram of ```TotalWorkingYears``` with 30 bins. \n",
        "* Draw a histogram of ```YearsAtCompany``` with 30 bins and find whether the values in ```YearsAtCompany``` are skewed. "
      ]
    },
    {
      "cell_type": "code",
      "metadata": {
        "id": "zvSlfj3FLUvV",
        "colab_type": "code",
        "colab": {
          "base_uri": "https://localhost:8080/",
          "height": 541
        },
        "outputId": "b2c5c6c8-752c-4bb7-c383-399fe38c69e5"
      },
      "source": [
        "# Draw a histogram of TotalWorkingYears with 30 bins\n",
        "plt.hist(df.TotalWorkingYears,bins=30)\n",
        "plt.xlabel('Total Working Years')\n",
        "plt.show()\n",
        "# Draw a histogram of YearsAtCompany\n",
        "plt.hist(df.YearsAtCompany,bins=30)\n",
        "plt.xlabel('Years At Company')\n",
        "plt.show()\n"
      ],
      "execution_count": 202,
      "outputs": [
        {
          "output_type": "display_data",
          "data": {
            "image/png": "[encoded data removed]",
            "text/plain": [
              "<Figure size 432x288 with 1 Axes>"
            ]
          },
          "metadata": {
            "tags": [],
            "needs_background": "light"
          }
        },
        {
          "output_type": "display_data",
          "data": {
            "image/png": "[encoded data removed]",
            "text/plain": [
              "<Figure size 432x288 with 1 Axes>"
            ]
          },
          "metadata": {
            "tags": [],
            "needs_background": "light"
          }
        }
      ]
    },
    {
      "cell_type": "markdown",
      "metadata": {
        "id": "oBcsFqz-Moja",
        "colab_type": "text"
      },
      "source": [
        "### Visualize the ```df``` by drawing the following boxplot:\n",
        "\n",
        "* Draw a boxplot of ```MonthlyIncome``` for each ```Department``` and report whether there is/are outlier(s). \n"
      ]
    },
    {
      "cell_type": "code",
      "metadata": {
        "id": "S6zsSE65NED9",
        "colab_type": "code",
        "colab": {
          "base_uri": "https://localhost:8080/",
          "height": 831
        },
        "outputId": "8163e985-149f-4ec9-ec9c-8c84239d2090"
      },
      "source": [
        "# Draw a boxplot of MonthlyIncome for each Department and report outliers \n",
        "plt.figure(figsize=(8,10))\n",
        "bxplt = sns.boxplot('Department','MonthlyIncome', data=df)\n",
        "bxplt.set_xticklabels(\n",
        "    chart.get_xticklabels(), \n",
        "    rotation=90, \n",
        "    horizontalalignment='right',\n",
        "    fontweight='light',\n",
        "    fontsize='x-large'\n",
        ")\n"
      ],
      "execution_count": 206,
      "outputs": [
        {
          "output_type": "execute_result",
          "data": {
            "text/plain": [
              "[Text(0, 0, 'Sales'),\n",
              " Text(0, 0, 'Research & Development'),\n",
              " Text(0, 0, 'Human Resources')]"
            ]
          },
          "metadata": {
            "tags": []
          },
          "execution_count": 206
        },
        {
          "output_type": "display_data",
          "data": {
            "image/png": "[encoded data removed]",
            "text/plain": [
              "<Figure size 576x720 with 1 Axes>"
            ]
          },
          "metadata": {
            "tags": [],
            "needs_background": "light"
          }
        }
      ]
    },
    {
      "cell_type": "markdown",
      "metadata": {
        "id": "NRPgJjp-NX07",
        "colab_type": "text"
      },
      "source": [
        "### Visualize the ```df``` by drawing the following piechart:\n",
        "\n",
        "* Create a pie chart of the values in ```JobRole``` with suitable label and report which role has highest number of persons. "
      ]
    },
    {
      "cell_type": "code",
      "metadata": {
        "id": "5pr2HVVGNlaV",
        "colab_type": "code",
        "colab": {
          "base_uri": "https://localhost:8080/",
          "height": 747
        },
        "outputId": "c9110c38-3d90-4641-c828-5878437993a5"
      },
      "source": [
        "# Create a piechart of JobRole \n",
        "role_counts=df.JobRole.value_counts()\n",
        "# You will need to find the counts of unique values in JobRole. \n",
        "plt.pie(role_counts,labels=role_counts.index,rotatelabels=True)\n",
        "\n",
        "\n",
        "\n"
      ],
      "execution_count": 211,
      "outputs": [
        {
          "output_type": "execute_result",
          "data": {
            "text/plain": [
              "([<matplotlib.patches.Wedge at 0x7fb964c0acf8>,\n",
              "  <matplotlib.patches.Wedge at 0x7fb964bea278>,\n",
              "  <matplotlib.patches.Wedge at 0x7fb964bea780>,\n",
              "  <matplotlib.patches.Wedge at 0x7fb964beac88>,\n",
              "  <matplotlib.patches.Wedge at 0x7fb964e421d0>,\n",
              "  <matplotlib.patches.Wedge at 0x7fb964e426d8>,\n",
              "  <matplotlib.patches.Wedge at 0x7fb964e42be0>,\n",
              "  <matplotlib.patches.Wedge at 0x7fb964e53128>,\n",
              "  <matplotlib.patches.Wedge at 0x7fb964e53630>],\n",
              " [Text(0.8542961340812947, 0.6929488547459725, 'Sales Executive'),\n",
              "  Text(-0.45945693362420414, 0.9994495115535571, 'Research Scientist'),\n",
              "  Text(-1.0981462091349679, -0.06383496974620964, 'Laboratory Technician'),\n",
              "  Text(-0.6503653604759383, -0.8871442373667334, 'Manufacturing Director'),\n",
              "  Text(-0.05712202505487643, -1.0985158507065933, 'Healthcare Representative'),\n",
              "  Text(0.47770465248811617, -0.9908573383647155, 'Manager'),\n",
              "  Text(0.841447151537986, -0.708496077031207, 'Research Director'),\n",
              "  Text(1.03505987357499, -0.37235877606808926, 'Sales Representative'),\n",
              "  Text(1.09597534812125, -0.0940108308148859, 'Human Resources')])"
            ]
          },
          "metadata": {
            "tags": []
          },
          "execution_count": 211
        },
        {
          "output_type": "display_data",
          "data": {
            "image/png": "[encoded data removed]",
            "text/plain": [
              "<Figure size 432x288 with 1 Axes>"
            ]
          },
          "metadata": {
            "tags": []
          }
        }
      ]
    }
  ]
}